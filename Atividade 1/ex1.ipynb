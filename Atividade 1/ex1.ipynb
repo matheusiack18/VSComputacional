{
 "cells": [
  {
   "cell_type": "markdown",
   "metadata": {},
   "source": [
    "# Importacao das Bibliotecas"
   ]
  },
  {
   "cell_type": "code",
   "execution_count": null,
   "metadata": {},
   "outputs": [],
   "source": [
    "!pip install numpy \n",
    "!pip install matplotlib \n"
   ]
  },
  {
   "cell_type": "code",
   "execution_count": null,
   "metadata": {},
   "outputs": [],
   "source": [
    "import numpy as np\n",
    "import matplotlib.pyplot as plt\n",
    "from PIL import Image"
   ]
  },
  {
   "cell_type": "markdown",
   "metadata": {},
   "source": [
    "# Teste\n"
   ]
  },
  {
   "cell_type": "code",
   "execution_count": null,
   "metadata": {},
   "outputs": [],
   "source": [
    "Im = Image.open (\"Mario.jpg\")\n",
    "Im = np.asarray(Im,dtype=np.float32)/255"
   ]
  },
  {
   "cell_type": "code",
   "execution_count": null,
   "metadata": {},
   "outputs": [],
   "source": [
    "plt.figure(figsize=(3,3))\n",
    "ima = plt.imshow(Im,aspect='auto')\n",
    "plt.axis(\"off\")\n",
    "plt.show()"
   ]
  },
  {
   "cell_type": "code",
   "execution_count": null,
   "metadata": {},
   "outputs": [],
   "source": [
    "Im.shape"
   ]
  },
  {
   "cell_type": "markdown",
   "metadata": {},
   "source": [
    "# Matriz nula 16x14x3"
   ]
  },
  {
   "cell_type": "code",
   "execution_count": null,
   "metadata": {},
   "outputs": [],
   "source": [
    "Im = np.zeros((16,14,3), dtype=np.float32)"
   ]
  },
  {
   "cell_type": "code",
   "execution_count": null,
   "metadata": {},
   "outputs": [],
   "source": [
    "print(Im)"
   ]
  },
  {
   "cell_type": "markdown",
   "metadata": {},
   "source": [
    "# Criacao das Camadas"
   ]
  },
  {
   "cell_type": "markdown",
   "metadata": {},
   "source": [
    "Camada Vermelha"
   ]
  },
  {
   "cell_type": "code",
   "execution_count": null,
   "metadata": {},
   "outputs": [],
   "source": [
    "R = np.array([\n",
    "    [1, 1, 1, 1, 1, 1, 1, 1, 1, 1, 1, 1, 1, 1],\n",
    "    [1, 1, 1, 1, 1, 1, 1, 1, 1, 1, 1, 1, 1, 1],\n",
    "    [1, 1, 1, 0.5, 0.5, 0.5, 1, 1, 0.5, 1, 1, 1, 1, 1],\n",
    "    [1, 1, 0.5, 1, 0.5, 1, 1, 1, 0.5, 1, 1, 1, 1, 1],\n",
    "    [1, 1, 0.5, 1, 0.5, 0.5, 1, 1, 1, 0.5, 1, 1, 1, 1],\n",
    "    [1, 1, 0.5, 0.5, 1, 1, 1, 1, 0.5, 0.5, 0.5, 0.5, 1, 1],\n",
    "    [1, 1, 1, 1, 1, 1, 1, 1, 1, 1, 1, 1, 1, 1],\n",
    "    [1, 1, 1, 0.5, 0.5, 1, 0.5, 0.5, 1, 1, 1, 1, 1, 1],\n",
    "    [1, 1, 0.5, 0.5, 0.5, 1, 0.5, 0.5, 1, 0.5, 0.5, 0.5, 1, 1],\n",
    "    [1, 0.5, 0.5, 0.5, 0.5, 1, 1, 1, 1, 0.5, 0.5, 0.5, 0.5, 1],\n",
    "    [1, 1, 1, 0.5, 1, 1, 1, 1, 1, 1, 0.5, 1, 1, 1],\n",
    "    [1, 1, 1, 1, 1, 1, 1, 1, 1, 1, 1, 1, 1, 1],\n",
    "    [1, 1, 1, 1, 1, 1, 1, 1, 1, 1, 1, 1, 1, 1],\n",
    "    [1, 1, 1, 1, 1, 1, 1, 1, 1, 1, 1, 1, 1, 1],\n",
    "    [1, 1, 0.5, 0.5, 0.5, 1, 1, 1, 1, 0.5, 0.5, 0.5, 1, 1],\n",
    "    [1, 0.5, 0.5, 0.5, 0.5, 1, 1, 1, 1, 0.5, 0.5, 0.5, 0.5, 1]\n",
    "    \n",
    "], dtype=np.float32)"
   ]
  },
  {
   "cell_type": "markdown",
   "metadata": {},
   "source": [
    "Camada Verde"
   ]
  },
  {
   "cell_type": "code",
   "execution_count": null,
   "metadata": {},
   "outputs": [],
   "source": [
    "G = np.array([\n",
    "    [1, 1, 1, 1, 0, 0, 0, 0, 0, 1, 1, 1, 1, 1],\n",
    "    [1, 1, 1, 0, 0, 0, 0, 0, 0, 0, 0, 0, 1, 1],\n",
    "    [1, 1, 1, 0.3, 0.3, 0.3, 0.7, 0.7, 0.3, 0.7, 1, 1, 1, 1],\n",
    "    [1, 1, 0.3, 0.7, 0.3, 0.7, 0.7, 0.7, 0.3, 0.7, 0.7, 0.7, 1, 1],\n",
    "    [1, 1, 0.3, 0.7, 0.3, 0.3, 0.7, 0.7, 0.7, 0.3, 0.7, 0.7, 0.7, 1],\n",
    "    [1, 1, 0.3, 0.3, 0.7, 0.7, 0.7, 0.7, 0.3, 0.3, 0.3, 0.3, 1, 1],\n",
    "    [1, 1, 1, 1, 0.7, 0.7, 0.7, 0.7, 0.7, 0.7, 0.7, 1, 1, 1],\n",
    "    [1, 1, 1, 0.3, 0.3, 0, 0.3, 0.3, 0, 1, 1, 1, 1, 1],\n",
    "    [1, 1, 0.3, 0.3, 0.3, 0, 0.3, 0.3, 0, 0.3, 0.3, 0.3, 1, 1],\n",
    "    [1, 0.3, 0.3, 0.3, 0.3, 0, 0, 0, 0, 0.3, 0.3, 0.3, 0.3, 1], \n",
    "    [1, 0.7, 0.7, 0.3, 0, 0.7, 0, 0, 0.7, 0, 0.3, 0.7, 0.7, 1],\n",
    "    [1, 0.7, 0.7, 0.7, 0, 0, 0, 0, 0, 0, 0.7, 0.7, 0.7, 1],\n",
    "    [1, 0.7, 0.7, 0, 0, 0, 0, 0, 0, 0, 0, 0.7, 0.7, 1],\n",
    "    [1, 1, 1, 0, 0, 0, 1, 1, 0, 0, 0, 1, 1, 1],\n",
    "    [1, 1, 0.3, 0.3, 0.3, 1, 1, 1, 1, 0.3, 0.3, 0.3, 1, 1],\n",
    "    [1, 0.3, 0.3, 0.3, 0.3, 1, 1, 1, 1, 0.3, 0.3, 0.3, 0.3, 1]\n",
    "    \n",
    "], dtype=np.float32)"
   ]
  },
  {
   "cell_type": "markdown",
   "metadata": {},
   "source": [
    "Camada Azul"
   ]
  },
  {
   "cell_type": "code",
   "execution_count": null,
   "metadata": {},
   "outputs": [],
   "source": [
    "B = np.array([\n",
    "    [1, 1, 1, 1, 0, 0, 0, 0, 0, 1, 1, 1, 1, 1],\n",
    "    [1, 1, 1, 0, 0, 0, 0, 0, 0, 0, 0, 0, 1, 1],\n",
    "    [1, 1, 1, 0, 0, 0, 0, 0, 0, 0, 1, 1, 1, 1],\n",
    "    [1, 1, 0, 0, 0, 0, 0, 0, 0, 0, 0, 0, 1, 1],\n",
    "    [1, 1, 0, 0, 0, 0, 0, 0, 0, 0, 0, 0, 0, 1],\n",
    "    [1, 1, 0, 0, 0, 0, 0, 0, 0, 0, 0, 0, 1, 1],\n",
    "    [1, 1, 1, 1, 0, 0, 0, 0, 0, 0, 0, 1, 1, 1],\n",
    "    [1, 1, 1, 0, 0, 0, 0, 0, 0, 1, 1, 1, 1, 1],\n",
    "    [1, 1, 0, 0, 0, 0, 0, 0, 0, 0, 0, 0, 1, 1],\n",
    "    [1, 0, 0, 0, 0, 0, 0, 0, 0, 0, 0, 0, 0, 1],\n",
    "    [1, 0, 0, 0, 0, 0, 0, 0, 0, 0, 0, 0, 0, 1],\n",
    "    [1, 0, 0, 0, 0, 0, 0, 0, 0, 0, 0, 0, 0, 1],\n",
    "    [1, 0, 0, 0, 0, 0, 0, 0, 0, 0, 0, 0, 0, 1],\n",
    "    [1, 1, 1, 0, 0, 0, 1, 1, 0, 0, 0, 1, 1, 1],\n",
    "    [1, 1, 0, 0, 0, 1, 1, 1, 1, 0, 0, 0, 1, 1],\n",
    "    [1, 0, 0, 0, 0, 1, 1, 1, 1, 0, 0, 0, 0, 1]\n",
    "    \n",
    "], dtype=np.float32)"
   ]
  },
  {
   "cell_type": "markdown",
   "metadata": {},
   "source": [
    "# Agora vamos fazer as atribuicoes de cada cor correspondente a linha e coluna"
   ]
  },
  {
   "cell_type": "code",
   "execution_count": null,
   "metadata": {},
   "outputs": [],
   "source": [
    "# Criacao da Matriz nula (16, 14, 3)\n",
    "M = np.zeros((16,14,3))\n",
    "\n",
    "# Atribuicao 1 camada\n",
    "M[:,:,0] = R\n",
    "\n",
    "# Atribuicao 2 camada\n",
    "M[:,:,1] = G\n",
    "\n",
    "# Atribuicao 3 camada\n",
    "M[:,:,2] = B\n"
   ]
  },
  {
   "cell_type": "markdown",
   "metadata": {},
   "source": [
    "# Para visualizar a Imagem "
   ]
  },
  {
   "cell_type": "markdown",
   "metadata": {},
   "source": [
    "Foi utilizado a biblioteca matplotlib"
   ]
  },
  {
   "cell_type": "code",
   "execution_count": null,
   "metadata": {},
   "outputs": [],
   "source": [
    "# Criacao da imagem\n",
    "plt.figure(figsize=(4,4))"
   ]
  },
  {
   "cell_type": "code",
   "execution_count": null,
   "metadata": {},
   "outputs": [],
   "source": [
    "# Plotando a Imagem\n",
    "im = plt.imshow(M, aspect='auto')"
   ]
  },
  {
   "cell_type": "code",
   "execution_count": null,
   "metadata": {},
   "outputs": [],
   "source": [
    "plt.axis(\"off\")\n",
    "plt.show()"
   ]
  }
 ],
 "metadata": {
  "kernelspec": {
   "display_name": "Python 3",
   "language": "python",
   "name": "python3"
  },
  "language_info": {
   "codemirror_mode": {
    "name": "ipython",
    "version": 3
   },
   "file_extension": ".py",
   "mimetype": "text/x-python",
   "name": "python",
   "nbconvert_exporter": "python",
   "pygments_lexer": "ipython3",
   "version": "3.10.11"
  },
  "orig_nbformat": 4
 },
 "nbformat": 4,
 "nbformat_minor": 2
}
