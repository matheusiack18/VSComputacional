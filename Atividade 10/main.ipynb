{
 "cells": [
  {
   "cell_type": "code",
   "execution_count": 24,
   "metadata": {},
   "outputs": [
    {
     "name": "stdout",
     "output_type": "stream",
     "text": [
      "Requirement already satisfied: pytesseract in c:\\users\\user\\appdata\\local\\packages\\pythonsoftwarefoundation.python.3.10_qbz5n2kfra8p0\\localcache\\local-packages\\python310\\site-packages (0.3.10)\n",
      "Requirement already satisfied: packaging>=21.3 in c:\\users\\user\\appdata\\local\\packages\\pythonsoftwarefoundation.python.3.10_qbz5n2kfra8p0\\localcache\\local-packages\\python310\\site-packages (from pytesseract) (23.1)\n",
      "Requirement already satisfied: Pillow>=8.0.0 in c:\\users\\user\\appdata\\local\\packages\\pythonsoftwarefoundation.python.3.10_qbz5n2kfra8p0\\localcache\\local-packages\\python310\\site-packages (from pytesseract) (10.0.0)\n"
     ]
    },
    {
     "name": "stderr",
     "output_type": "stream",
     "text": [
      "\n",
      "[notice] A new release of pip is available: 23.0.1 -> 23.3.1\n",
      "[notice] To update, run: C:\\Users\\User\\AppData\\Local\\Microsoft\\WindowsApps\\PythonSoftwareFoundation.Python.3.10_qbz5n2kfra8p0\\python.exe -m pip install --upgrade pip\n"
     ]
    }
   ],
   "source": [
    "!pip install pytesseract"
   ]
  },
  {
   "cell_type": "code",
   "execution_count": 25,
   "metadata": {},
   "outputs": [],
   "source": [
    "import cv2\n",
    "import pytesseract\n",
    "import numpy as np \n",
    "import matplotlib.pyplot as plt"
   ]
  },
  {
   "cell_type": "code",
   "execution_count": 26,
   "metadata": {},
   "outputs": [],
   "source": [
    "image = cv2.imread(\"./foto.jpeg\")"
   ]
  },
  {
   "cell_type": "code",
   "execution_count": 27,
   "metadata": {},
   "outputs": [],
   "source": [
    "gray = cv2.cvtColor(image,cv2.COLOR_BGR2GRAY)\n",
    "\n",
    "flag, thresh = cv2.threshold(gray, 100, 255, cv2.THRESH_BINARY)\n",
    "\n",
    "image = thresh"
   ]
  },
  {
   "cell_type": "code",
   "execution_count": 28,
   "metadata": {},
   "outputs": [
    {
     "name": "stdout",
     "output_type": "stream",
     "text": [
      "Lin megsos do sécul xX. 2 lereaira Revolucaa Industrial - erergida na Loose 2 ditune sa ~a América - orsoarciono.\n",
      "svangos beeng.4g eos sera a posulacdo em grande escal, Condom tantemrente, *endmeos como a abs\n",
      "progress @ a asce*siig se ‘ridia publ cizé‘ia toram instauradgs 9era renter a dindrrica capital sta v gente. 5 que\n",
      "corssersu 9 uments substancial do ixo, besae evtis. urge a necessidade oe so8rar 08 «\n",
      "residuos “0 Bas . 5\n",
      "alcangar a sustentevilidade\n",
      "\n",
      "slescéncia\n",
      "\n",
      "sasc*os da gestito\n",
      "\n",
      "ido 8 cons ttisma e a detasagen, nas est-utures ce 4:\n",
      "\n",
      "£05 p'\"c oe $ obstaculss sere se\n",
      "\n",
      "Len primaira “stoncia, & corete eno car sue o consume exacerbeso se pooulacda cresile “2, decorvante da g.odal zacdo.\n",
      "pea grande produgio se ixo do sais. 12’ censvio ge apoa ne dtice do sersesur e escitor\n",
      "\n",
      "bavcés Guy Yebove, de que c capital sire que mpara na soc enede é agressive, ou sea, oregcuper-se em ctiar “oes\n",
      "necessicl fo consurris no tore mente astinulads\n",
      "nos coadies, sends 9 public dade € a ouslascéncia o-agrarrad - orética des emovesas de resuzr a vide atl dos,\n",
      "prod.tos procosite.mente ~ as estrakégias mas util zodes pel\n",
      "durave s toma-se iney tive contrarianse seus reais orezos\n",
      "\n",
      "cnaior “esconsavel\n",
      "\n",
      "eS gOS inaiy auIDs, e “Ao Sorin ag existentes. Jesse forme. a pratica 2\n",
      "\n",
      "Io s starra, Come conseq ance disss. a sescerte se ses\n",
      "\n",
      "je velisede e cvolumnana “esiouys ne reie am sia\n",
      "\n",
      "te,\n",
      "\n",
      "Outros 7, cave goont:\n",
      "Seguniso sados do Instituto Bresite ro de Geograt a e Lstat\n",
      "destinagdo correta de Lxo, Isse s gnitce que a Tiaior pete\n",
      "prol teracio de an nai vetoras de doenca\n",
      "\n",
      "qu2 8 Brasil “as invest\n",
      "\n",
      "ene\n",
      "\n",
      "cr teres adaquada\n",
      "\n",
      "para 9 descarke s.stentavval de ra\n",
      "ce. renos de SU dos rruncio os bras eiros\n",
      "jos Teterinis descartados wis para lixdes, 10\n",
      "a prosucds a0 gés rretans, or unso se decom oosiceo, $33\n",
      "videntes, gerards imocctos de seude nzagio da sopulecie vzin-a por Senge ¢ leptospiros:\n",
      "£9 eqravarrents do equaciments globa. Lm co-travartida, algurras cideses do Jasdo, corre exiboo no docurrestéig\n",
      "Com esta cdade néo ovod.z Ls”, surpreanden com tecnolegizs copazes de tratar e reeprove tar toda a ‘naneia\n",
      "duos, nostranda come & oussivel cltee’ a relate do homer com a vatureza, torne dh\n",
      "\n",
      "amiertais, cams 3\n",
      "\n",
      "re mas positive,\n",
      "\n",
      "Percebe:\n",
      "deve\n",
      "\n",
      "$8, porg-t, gue 8 impresc “divel criar “ornres de rr tigar 2852 prosienatica, Ay sta diss, 0 Governe Feder\n",
      "ovestit em estrutvas adaqanes care 9 oescurte de rasid.os, Iss pode se\" feto por neo da destinecds de\n",
      "ticetivas cos uric 908, que perm tam a constr_cdo de locals cons zentes. que seve'em, recoove ter &\n",
      "dest ven correte ents cada material - ass 1 co7t0 JE 8 teto ne Lop - com o “tbo de atenwar 2s acdes entrépicas\n",
      "no meio ans ence, Adenais, cabe & escole. como terramente de tornagés c devé. trabalhe’ a “elacdo 2\n",
      "ecolog ¢, através das 9 ¢ slinas Soc ologia e Bologia. a tim de tornar passive. um cendrig err aue 3 capite.isire e 2\n",
      "sustentabilidade camninhem hemoviasernente\n",
      "\n",
      "verbas $9\n",
      "\n",
      "jo consume @\n",
      "\n",
      "\n"
     ]
    }
   ],
   "source": [
    "caminho = \"C:\\Program Files\\Tesseract-OCR\"\n",
    "pytesseract.pytesseract.tesseract_cmd = caminho + r'\\tesseract.exe'\n",
    "texto = pytesseract.image_to_string(image, lang=\"eng\")\n",
    "print(texto)"
   ]
  },
  {
   "cell_type": "code",
   "execution_count": 29,
   "metadata": {},
   "outputs": [],
   "source": [
    "num_caracteres_total = len(texto)\n",
    "num_letras = sum(c.isalpha() for c in texto)\n",
    "num_espacos = sum(c.isspace() for c in texto)\n",
    "num_palavras = len(texto.split())"
   ]
  },
  {
   "cell_type": "code",
   "execution_count": 30,
   "metadata": {},
   "outputs": [
    {
     "name": "stdout",
     "output_type": "stream",
     "text": [
      "Número total de caracteres: 2941\n",
      "Número de letras: 2229\n",
      "Número de espaços em branco: 536\n",
      "Número de palavras: 513\n"
     ]
    }
   ],
   "source": [
    "print(f\"Número total de caracteres: {num_caracteres_total}\")\n",
    "print(f\"Número de letras: {num_letras}\")\n",
    "print(f\"Número de espaços em branco: {num_espacos}\")\n",
    "print(f\"Número de palavras: {num_palavras}\")"
   ]
  },
  {
   "cell_type": "code",
   "execution_count": 31,
   "metadata": {},
   "outputs": [],
   "source": [
    "cv2.destroyAllWindows()"
   ]
  }
 ],
 "metadata": {
  "kernelspec": {
   "display_name": "Python 3",
   "language": "python",
   "name": "python3"
  },
  "language_info": {
   "codemirror_mode": {
    "name": "ipython",
    "version": 3
   },
   "file_extension": ".py",
   "mimetype": "text/x-python",
   "name": "python",
   "nbconvert_exporter": "python",
   "pygments_lexer": "ipython3",
   "version": "3.10.11"
  }
 },
 "nbformat": 4,
 "nbformat_minor": 2
}
